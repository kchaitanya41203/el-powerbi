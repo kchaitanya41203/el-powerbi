{
 "cells": [
  {
   "cell_type": "code",
   "execution_count": 1,
   "id": "824aea66-89d5-4fbc-b4e7-eedf6e028bc1",
   "metadata": {},
   "outputs": [],
   "source": [
    "import sqlite3\n",
    "import pandas as pd\n",
    "import matplotlib.pyplot as plt"
   ]
  },
  {
   "cell_type": "code",
   "execution_count": 2,
   "id": "cdb05406-3613-4c95-9e77-9d23d6771b64",
   "metadata": {},
   "outputs": [],
   "source": [
    "# Connect to SQLite database (creates file if not exists)\n",
    "conn = sqlite3.connect(\"sales_data.db\")\n",
    "cursor = conn.cursor()"
   ]
  },
  {
   "cell_type": "code",
   "execution_count": 3,
   "id": "a056bf92-95d8-4c63-a16d-69513acd7cd4",
   "metadata": {},
   "outputs": [
    {
     "data": {
      "text/plain": [
       "<sqlite3.Cursor at 0x20f27551bc0>"
      ]
     },
     "execution_count": 3,
     "metadata": {},
     "output_type": "execute_result"
    }
   ],
   "source": [
    "# Create the sales table\n",
    "cursor.execute(\"\"\"\n",
    "CREATE TABLE IF NOT EXISTS sales (\n",
    "    id INTEGER PRIMARY KEY AUTOINCREMENT,\n",
    "    product TEXT,\n",
    "    quantity INTEGER,\n",
    "    price REAL\n",
    ")\n",
    "\"\"\")"
   ]
  },
  {
   "cell_type": "code",
   "execution_count": 4,
   "id": "17369ecd-64d8-4564-bdb0-cadaf0c38dc6",
   "metadata": {},
   "outputs": [
    {
     "data": {
      "text/plain": [
       "<sqlite3.Cursor at 0x20f27551bc0>"
      ]
     },
     "execution_count": 4,
     "metadata": {},
     "output_type": "execute_result"
    }
   ],
   "source": [
    "cursor.execute(\"DELETE FROM sales\")"
   ]
  },
  {
   "cell_type": "code",
   "execution_count": 5,
   "id": "cf6b2c3e-b08e-4c95-bd03-7c309385f38f",
   "metadata": {},
   "outputs": [],
   "source": [
    "# Insert sample sales data\n",
    "sample_data = [\n",
    "    (\"Apple\", 10, 0.5),\n",
    "    (\"Banana\", 5, 0.3),\n",
    "    (\"Apple\", 7, 0.5),\n",
    "    (\"Orange\", 3, 0.8),\n",
    "    (\"Banana\", 8, 0.3),\n",
    "    (\"Orange\", 4, 0.8),\n",
    "    (\"Grapes\", 6, 1.2),\n",
    "    (\"Mango\", 9, 1.5)\n",
    "]\n",
    "cursor.executemany(\n",
    "    \"INSERT INTO sales (product, quantity, price) VALUES (?, ?, ?)\", \n",
    "    sample_data\n",
    ")\n",
    "conn.commit()"
   ]
  },
  {
   "cell_type": "code",
   "execution_count": 6,
   "id": "73e34567-ef36-4c46-90ec-04f5ea3c29b0",
   "metadata": {},
   "outputs": [],
   "source": [
    "# Run SQL query for sales summary\n",
    "query = \"\"\"\n",
    "SELECT \n",
    "    product, \n",
    "    SUM(quantity) AS total_qty, \n",
    "    SUM(quantity * price) AS revenue\n",
    "FROM sales\n",
    "GROUP BY product\n",
    "\"\"\"\n",
    "df = pd.read_sql_query(query, conn)\n"
   ]
  },
  {
   "cell_type": "code",
   "execution_count": 7,
   "id": "8426fbce-8dcb-4e42-b859-01f7c83f4c54",
   "metadata": {},
   "outputs": [
    {
     "name": "stdout",
     "output_type": "stream",
     "text": [
      "Sales Data:\n",
      "\n",
      "  product  total_qty  revenue\n",
      "0   Apple         17      8.5\n",
      "1  Banana         13      3.9\n",
      "2  Grapes          6      7.2\n",
      "3   Mango          9     13.5\n",
      "4  Orange          7      5.6\n"
     ]
    }
   ],
   "source": [
    "# print result\n",
    "print(\"Sales Data:\\n\")\n",
    "print(df)"
   ]
  },
  {
   "cell_type": "code",
   "execution_count": 10,
   "id": "5b414d1f-617a-4054-a354-686841ceb63d",
   "metadata": {},
   "outputs": [
    {
     "data": {
      "text/plain": [
       "<Figure size 600x400 with 0 Axes>"
      ]
     },
     "metadata": {},
     "output_type": "display_data"
    },
    {
     "data": {
      "image/png": "[encoded data removed]",
      "text/plain": [
       "<Figure size 640x480 with 1 Axes>"
      ]
     },
     "metadata": {},
     "output_type": "display_data"
    }
   ],
   "source": [
    "# Plot revenue chart\n",
    "plt.figure(figsize=(6, 4))\n",
    "df.plot(kind='bar', x='product', y='revenue')\n",
    "plt.ylabel(\"Revenue ($)\")\n",
    "plt.title(\"Revenue by Product\")\n",
    "plt.tight_layout()\n",
    "plt.savefig(\"sales_chart.png\")\n",
    "plt.show()"
   ]
  },
  {
   "cell_type": "code",
   "execution_count": 11,
   "id": "7285f328-6c4a-4b3f-8b3c-09271655bc8e",
   "metadata": {},
   "outputs": [
    {
     "name": "stdout",
     "output_type": "stream",
     "text": [
      "Database connection closed.\n"
     ]
    }
   ],
   "source": [
    "# Close the database connection\n",
    "conn.close()\n",
    "print(\"Database connection closed.\")"
   ]
  },
  {
   "cell_type": "code",
   "execution_count": null,
   "id": "b0c69da6-5a5f-4fdb-8f1d-9c7d05573fd1",
   "metadata": {},
   "outputs": [],
   "source": []
  }
 ],
 "metadata": {
  "kernelspec": {
   "display_name": "Python 3 (ipykernel)",
   "language": "python",
   "name": "python3"
  },
  "language_info": {
   "codemirror_mode": {
    "name": "ipython",
    "version": 3
   },
   "file_extension": ".py",
   "mimetype": "text/x-python",
   "name": "python",
   "nbconvert_exporter": "python",
   "pygments_lexer": "ipython3",
   "version": "3.12.7"
  }
 },
 "nbformat": 4,
 "nbformat_minor": 5
}
